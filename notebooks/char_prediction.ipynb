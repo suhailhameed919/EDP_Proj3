{
 "cells": [
  {
   "cell_type": "code",
   "execution_count": null,
   "metadata": {},
   "outputs": [],
   "source": [
    "import pandas as pd"
   ]
  },
  {
   "cell_type": "code",
   "execution_count": null,
   "metadata": {},
   "outputs": [],
   "source": [
    "import numpy as np\n",
    "#loading the data set\n",
    "data = pd.read_csv('../troop_movements.csv')\n",
    "print(data.head())\n",
    "\n"
   ]
  },
  {
   "cell_type": "code",
   "execution_count": null,
   "metadata": {},
   "outputs": [],
   "source": [
    "df = pd.DataFrame(data = data)\n",
    "print(df.head())\n"
   ]
  },
  {
   "cell_type": "code",
   "execution_count": null,
   "metadata": {},
   "outputs": [],
   "source": [
    "# df.groupby(['homeworld', 'unit_id'], as_index = False).count()\n",
    "# SELECT DISTINCT HOMEWORLD, COUNT \n",
    "# pd.Series(df as \"Homeworld Count\"['homeworld'].drop_duplicates().size)\n",
    "series = pd.Series(df['homeworld'].drop_duplicates().size, name=\"Homeworld count\")\n",
    "series.columns = ['Homeworld', 'Homeworld_count']\n",
    "print(series)\n",
    "\n",
    "# series = pd.Series(data)\n",
    "# series = pd.DataFrame(series, columns = ['Homeworld', 'Homeworld Population'])\n",
    "# print(series)"
   ]
  },
  {
   "cell_type": "code",
   "execution_count": null,
   "metadata": {},
   "outputs": [],
   "source": [
    "groupHomeworld = df.groupby(['homeworld']).size().reset_index(name = 'count')\n",
    "groupHomeworld"
   ]
  },
  {
   "cell_type": "code",
   "execution_count": null,
   "metadata": {},
   "outputs": [],
   "source": [
    "groupeR = df.groupby(['empire_or_resistance']).size().reset_index(name = 'count')\n",
    "groupeR\n"
   ]
  },
  {
   "cell_type": "code",
   "execution_count": null,
   "metadata": {},
   "outputs": [],
   "source": [
    "sns.barplot(x = groupeR.empire_or_resistance, y = groupeR['count'])"
   ]
  },
  {
   "cell_type": "code",
   "execution_count": null,
   "metadata": {},
   "outputs": [],
   "source": [
    "groupUnitType = df.groupby(['unit_type']).size().reset_index(name = 'count')\n",
    "groupUnitType"
   ]
  },
  {
   "cell_type": "code",
   "execution_count": null,
   "metadata": {},
   "outputs": [],
   "source": [
    "\n",
    "boolData = []\n",
    "trueCounter = 0\n",
    "falseCounter = 0\n",
    "for index, row in df.iterrows():\n",
    "    # print(row['empire_or_resistance'])\n",
    "    if row['empire_or_resistance'] == \"empire\":\n",
    "        boolData.append(False)\n",
    "        falseCounter +=1\n",
    "    else:\n",
    "        boolData.append(True)\n",
    "        trueCounter +=1\n",
    "# print(boolData)\n",
    "\n",
    "df['is__resistance'] = boolData\n"
   ]
  },
  {
   "cell_type": "code",
   "execution_count": null,
   "metadata": {},
   "outputs": [],
   "source": [
    "print(df)"
   ]
  },
  {
   "cell_type": "code",
   "execution_count": null,
   "metadata": {},
   "outputs": [],
   "source": []
  },
  {
   "cell_type": "code",
   "execution_count": null,
   "metadata": {},
   "outputs": [],
   "source": [
    "import seaborn as sns\n",
    "import matplotlib.pyplot as plt\n",
    "\n",
    "\n",
    "tfdata = {'resistence': [trueCounter], 'empire': [falseCounter]}\n",
    "# Load the dataset\n",
    "# Set Seaborn style\n",
    "sns.set_theme(style=\"whitegrid\")\n",
    "\n",
    "# Histogram\n",
    "plt.figure(figsize=(10, 6))\n",
    "sns.barplot(data = groupeR, x = groupeR.empire_or_resistance, y = groupeR.count)\n",
    "plt.title('Character count by Empire or Resistance')\n",
    "plt.xlabel('Empire or Resistance')\n",
    "plt.ylabel('Count')\n",
    "\n",
    "plt.show()"
   ]
  },
  {
   "cell_type": "code",
   "execution_count": null,
   "metadata": {},
   "outputs": [],
   "source": [
    "pip install seaborn"
   ]
  },
  {
   "cell_type": "code",
   "execution_count": null,
   "metadata": {},
   "outputs": [],
   "source": [
    "pip install matplotlib\n"
   ]
  },
  {
   "cell_type": "code",
   "execution_count": null,
   "metadata": {},
   "outputs": [],
   "source": [
    "print(trueCounter)"
   ]
  },
  {
   "cell_type": "code",
   "execution_count": null,
   "metadata": {},
   "outputs": [],
   "source": [
    "# import the libraries\n",
    "import pandas as pd\n",
    "# get the data\n",
    "from sklearn.datasets import load_wine\n",
    "# get tools to split data\n",
    "from sklearn.model_selection import train_test_split\n",
    "# get the model we want to work with\n",
    "from sklearn.tree import DecisionTreeClassifier\n",
    "# get tools to check model performance\n",
    "from sklearn.metrics import accuracy_score\n",
    "# more on this later\n",
    "from sklearn import tree\n",
    "# stuff to plot this\n",
    "import matplotlib.pyplot as plt"
   ]
  },
  {
   "cell_type": "code",
   "execution_count": null,
   "metadata": {},
   "outputs": [],
   "source": [
    "print(data.head())"
   ]
  },
  {
   "cell_type": "code",
   "execution_count": null,
   "metadata": {},
   "outputs": [],
   "source": [
    "e_or_r_df = pd.DataFrame(data= data, columns=wine.feature_names)\n"
   ]
  }
 ],
 "metadata": {
  "kernelspec": {
   "display_name": "Python 3",
   "language": "python",
   "name": "python3"
  },
  "language_info": {
   "codemirror_mode": {
    "name": "ipython",
    "version": 3
   },
   "file_extension": ".py",
   "mimetype": "text/x-python",
   "name": "python",
   "nbconvert_exporter": "python",
   "pygments_lexer": "ipython3",
   "version": "3.12.3"
  }
 },
 "nbformat": 4,
 "nbformat_minor": 2
}
